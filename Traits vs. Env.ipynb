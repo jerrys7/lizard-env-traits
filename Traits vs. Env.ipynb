{
 "cells": [
  {
   "cell_type": "code",
   "execution_count": 1,
   "id": "43b29544",
   "metadata": {},
   "outputs": [],
   "source": [
    "import matplotlib.pyplot as plt\n",
    "import numpy as np\n",
    "import pandas as pd"
   ]
  },
  {
   "cell_type": "code",
   "execution_count": 2,
   "id": "bf02cc91",
   "metadata": {},
   "outputs": [],
   "source": [
    "traits = pd.read_csv('traitdata.csv')\n",
    "env = pd.read_csv('data.csv')"
   ]
  },
  {
   "cell_type": "code",
   "execution_count": 3,
   "id": "b7702780",
   "metadata": {},
   "outputs": [],
   "source": [
    "# adjustments (m, f) = (1,0) | gravid (y, n, n/a) = (1, 0, -1) | morph(y, o, w) = (2, 1, 0)\n",
    "# toe (N/A = 0)"
   ]
  },
  {
   "cell_type": "code",
   "execution_count": 4,
   "id": "4e22c032",
   "metadata": {
    "scrolled": true
   },
   "outputs": [
    {
     "data": {
      "text/plain": [
       "(242, 20)"
      ]
     },
     "execution_count": 4,
     "metadata": {},
     "output_type": "execute_result"
    }
   ],
   "source": [
    "np.shape(traits)"
   ]
  },
  {
   "cell_type": "code",
   "execution_count": 5,
   "id": "869834ca",
   "metadata": {},
   "outputs": [],
   "source": [
    "gravid = traits[\"gravid\"]"
   ]
  },
  {
   "cell_type": "code",
   "execution_count": 6,
   "id": "d2b43ca3",
   "metadata": {},
   "outputs": [],
   "source": [
    "new_gravid_vector = []\n",
    "for x in gravid:\n",
    "    if x == 'y':\n",
    "        new_gravid_vector.append(1)\n",
    "    elif x == 'n':\n",
    "        new_gravid_vector.append(0)\n",
    "    else:\n",
    "        new_gravid_vector.append(-1)"
   ]
  },
  {
   "cell_type": "code",
   "execution_count": 7,
   "id": "b8a0e9ff",
   "metadata": {},
   "outputs": [],
   "source": [
    "gravid = traits[\"morph\"]"
   ]
  },
  {
   "cell_type": "code",
   "execution_count": 8,
   "id": "e2a154a4",
   "metadata": {},
   "outputs": [],
   "source": [
    "new_morph_vector = []\n",
    "for x in gravid:\n",
    "    if x == 'y':\n",
    "        new_morph_vector.append(2)\n",
    "    elif x == 'o':\n",
    "        new_morph_vector.append(1)\n",
    "    else:\n",
    "        new_morph_vector.append(0)"
   ]
  },
  {
   "cell_type": "code",
   "execution_count": 9,
   "id": "fd2acf03",
   "metadata": {},
   "outputs": [],
   "source": [
    "variables = []\n",
    "for i in traits:\n",
    "    variables.append(i)"
   ]
  },
  {
   "cell_type": "code",
   "execution_count": 10,
   "id": "dc28ec31",
   "metadata": {},
   "outputs": [
    {
     "name": "stdout",
     "output_type": "stream",
     "text": [
      "['sex', 'gravid', 'morph', 'capture_temp', 'substrate_temp', 'scars', 'ticks', 'mites', 'mass', 'svl', 'head_length', 'head_width', 'head_depth', 'bicep_length', 'forearm_length', 'hand_finger_length', 'femur_length', 'tibia_length', 'toe', 'autotomy']\n"
     ]
    }
   ],
   "source": [
    "print(variables)"
   ]
  },
  {
   "cell_type": "code",
   "execution_count": 11,
   "id": "aa3317ff",
   "metadata": {},
   "outputs": [],
   "source": [
    "A = []\n",
    "for x in variables:\n",
    "    current_vec = traits[x]\n",
    "    y = current_vec.values\n",
    "    if x == 'gravid':\n",
    "        A.append(np.array(new_gravid_vector))\n",
    "    elif x == 'morph':\n",
    "        A.append(np.array(new_morph_vector))\n",
    "    else:\n",
    "        A.append(np.array(y))"
   ]
  },
  {
   "cell_type": "code",
   "execution_count": 12,
   "id": "08f069d0",
   "metadata": {},
   "outputs": [],
   "source": [
    "from sklearn.decomposition import PCA"
   ]
  },
  {
   "cell_type": "code",
   "execution_count": 13,
   "id": "b0b753dc",
   "metadata": {},
   "outputs": [],
   "source": [
    "B = np.array(A)"
   ]
  },
  {
   "cell_type": "code",
   "execution_count": 14,
   "id": "59bcae0a",
   "metadata": {},
   "outputs": [],
   "source": [
    "pca = PCA(n_components=2)"
   ]
  },
  {
   "cell_type": "code",
   "execution_count": 15,
   "id": "13e84fee",
   "metadata": {},
   "outputs": [],
   "source": [
    "C = pca.fit(B)"
   ]
  },
  {
   "cell_type": "code",
   "execution_count": 16,
   "id": "ac9f47fd",
   "metadata": {},
   "outputs": [
    {
     "name": "stdout",
     "output_type": "stream",
     "text": [
      "PCA(n_components=2)\n"
     ]
    }
   ],
   "source": [
    "print(C)"
   ]
  },
  {
   "cell_type": "code",
   "execution_count": 17,
   "id": "5619f5b8",
   "metadata": {},
   "outputs": [
    {
     "data": {
      "text/plain": [
       "array([1053.8868312 ,  880.01369924])"
      ]
     },
     "execution_count": 17,
     "metadata": {},
     "output_type": "execute_result"
    }
   ],
   "source": [
    "pca.singular_values_"
   ]
  },
  {
   "cell_type": "code",
   "execution_count": 18,
   "id": "7a855386",
   "metadata": {},
   "outputs": [],
   "source": [
    " variance = pca.explained_variance_ratio_"
   ]
  },
  {
   "cell_type": "code",
   "execution_count": 20,
   "id": "508edc53",
   "metadata": {},
   "outputs": [
    {
     "name": "stdout",
     "output_type": "stream",
     "text": [
      "0.5803820724844618\n",
      "0.985055696883648\n"
     ]
    }
   ],
   "source": [
    "cum_sum = 0\n",
    "for x in variance:\n",
    "    cum_sum += x\n",
    "    print(cum_sum)"
   ]
  },
  {
   "cell_type": "code",
   "execution_count": 33,
   "id": "a7aa7e70",
   "metadata": {},
   "outputs": [],
   "source": [
    "def PCA_train(training_set, n_components):\n",
    "    U, s, Vt = np.linalg.svd(training_set)\n",
    "    basis_components = Vt[:n_components].T\n",
    "    return basis_components"
   ]
  },
  {
   "cell_type": "code",
   "execution_count": 34,
   "id": "51565a04",
   "metadata": {},
   "outputs": [],
   "source": [
    "def PCA_project(data, principal_components):\n",
    "    \"\"\" Project the data set into the new basis vectors Parameters:\n",
    "        data: data to project (MxN)\n",
    "        principal_components: Our k principal components as column vectors\n",
    "    Returns:\n",
    "        Data projected onto new_basis (MxK)\n",
    "    \"\"\"\n",
    "    # YOUR CODE HERE\n",
    "    proj = np.dot(data, principal_components) \n",
    "    return proj"
   ]
  },
  {
   "cell_type": "code",
   "execution_count": 48,
   "id": "dc085191",
   "metadata": {},
   "outputs": [],
   "source": [
    "two_basis = PCA_train(B.T, 2)"
   ]
  },
  {
   "cell_type": "code",
   "execution_count": 49,
   "id": "650945c5",
   "metadata": {},
   "outputs": [
    {
     "data": {
      "image/png": "[encoded data removed]",
      "text/plain": [
       "<Figure size 432x288 with 1 Axes>"
      ]
     },
     "metadata": {
      "needs_background": "light"
     },
     "output_type": "display_data"
    }
   ],
   "source": [
    "plt.figure()\n",
    "for i, comp in enumerate(two_basis.T):\n",
    "    plt.plot(comp, label=f\"Principal Component #{i+1}\") \n",
    "    plt.title(\"First 2 Principal Components\")\n",
    "    plt.legend()"
   ]
  },
  {
   "cell_type": "code",
   "execution_count": 37,
   "id": "e574fafd",
   "metadata": {},
   "outputs": [],
   "source": [
    "colors = ['#0000ff', '#00ff00']"
   ]
  },
  {
   "cell_type": "code",
   "execution_count": 50,
   "id": "5fadd695",
   "metadata": {},
   "outputs": [
    {
     "name": "stdout",
     "output_type": "stream",
     "text": [
      "(242, 20)\n"
     ]
    }
   ],
   "source": [
    "print(B.T.shape)"
   ]
  },
  {
   "cell_type": "code",
   "execution_count": 51,
   "id": "6e6146ed",
   "metadata": {},
   "outputs": [],
   "source": [
    "two_projected = PCA_project(B.T, two_basis)"
   ]
  },
  {
   "cell_type": "code",
   "execution_count": 59,
   "id": "d2181677",
   "metadata": {
    "scrolled": true
   },
   "outputs": [
    {
     "data": {
      "text/plain": [
       "(242, 2)"
      ]
     },
     "execution_count": 59,
     "metadata": {},
     "output_type": "execute_result"
    }
   ],
   "source": [
    "two_projected.shape"
   ]
  },
  {
   "cell_type": "code",
   "execution_count": 60,
   "id": "13fc5fad",
   "metadata": {},
   "outputs": [],
   "source": [
    "two_projected.sort()"
   ]
  },
  {
   "cell_type": "code",
   "execution_count": 61,
   "id": "27686376",
   "metadata": {},
   "outputs": [
    {
     "name": "stdout",
     "output_type": "stream",
     "text": [
      "[[-7.95920536e+01  1.83860335e+01]\n",
      " [-7.03671886e+01  3.08077908e+01]\n",
      " [-7.38393855e+01  3.24150605e+01]\n",
      " [-7.21992983e+01  3.13958014e+01]\n",
      " [-6.66608678e+01  2.90392797e+01]\n",
      " [-7.85833016e+01  1.35402465e+01]\n",
      " [-7.40985618e+01  3.23354415e+01]\n",
      " [-7.75421902e+01  3.38672050e+01]\n",
      " [-7.09478023e+01  3.08165922e+01]\n",
      " [-7.22748877e+01  3.15576469e+01]\n",
      " [-7.31850853e+01  3.18254577e+01]\n",
      " [-7.40024584e+01  3.22421688e+01]\n",
      " [-7.34161217e+01  3.19807376e+01]\n",
      " [-7.35520493e+01  3.20885083e+01]\n",
      " [-7.54593136e+01  3.30636639e+01]\n",
      " [-8.13152204e+01  2.24609095e+01]\n",
      " [-7.86097754e+01  3.43527018e+01]\n",
      " [-7.00188199e+01  3.05103777e+01]\n",
      " [-7.52702796e+01  3.30364359e+01]\n",
      " [-7.16673234e+01  3.16204384e+01]\n",
      " [-7.92660627e+01  3.47341328e+01]\n",
      " [-7.80097143e+01  3.42091424e+01]\n",
      " [-7.02948938e+01  3.05968839e+01]\n",
      " [-8.74699892e+01  1.86541115e+01]\n",
      " [-7.30409863e+01  3.19924636e+01]\n",
      " [-8.21426427e+01  2.50056088e+01]\n",
      " [-7.53384126e+01  3.29126137e+01]\n",
      " [-9.70053411e+01 -2.64561306e+01]\n",
      " [-6.71057328e+01  2.94359541e+01]\n",
      " [-6.85672630e+01  2.99679775e+01]\n",
      " [-6.90983999e+01  3.00456234e+01]\n",
      " [-6.65111518e+01  2.91233082e+01]\n",
      " [-7.70537836e+01  3.36909468e+01]\n",
      " [-7.49888661e+01  3.26738090e+01]\n",
      " [-7.22938105e+01  3.15077043e+01]\n",
      " [-7.65931011e+01  3.36660690e+01]\n",
      " [-7.56525209e+01  3.31203765e+01]\n",
      " [-7.87583705e+01  3.42922329e+01]\n",
      " [-7.32698213e+01  3.20640255e+01]\n",
      " [-6.75456755e+01  2.95940916e+01]\n",
      " [-7.72245298e+01  3.37923051e+01]\n",
      " [-6.97061042e+01  3.04322832e+01]\n",
      " [-8.00799218e+01  3.49820199e+01]\n",
      " [-7.32888501e+01  3.20799188e+01]\n",
      " [-9.38812446e+01  1.62512970e+01]\n",
      " [-7.83279148e+01  3.42125933e+01]\n",
      " [-8.01439803e+01  3.50194392e+01]\n",
      " [-7.96041312e+01  3.47811273e+01]\n",
      " [-8.25612925e+01  3.62149795e+01]\n",
      " [-7.78576197e+01  3.39258380e+01]\n",
      " [-7.57600166e+01  3.30297888e+01]\n",
      " [-8.30929246e+01  3.63531912e+01]\n",
      " [-8.50516512e+01  3.72227553e+01]\n",
      " [-8.94873378e+01  3.92862580e+01]\n",
      " [-7.49139267e+01  3.27665349e+01]\n",
      " [-8.17208804e+01  3.57083169e+01]\n",
      " [-7.73580670e+01  3.40888176e+01]\n",
      " [-6.69175798e+01  2.91599901e+01]\n",
      " [-7.27570439e+01  2.11419480e+01]\n",
      " [-7.84590169e+01  3.43829373e+01]\n",
      " [-7.03416260e+01  3.07251627e+01]\n",
      " [-7.81736239e+01  3.42005594e+01]\n",
      " [-7.97284311e+01  3.49570333e+01]\n",
      " [-8.11229743e+01  3.53791306e+01]\n",
      " [-6.90146387e+01  3.03418256e+01]\n",
      " [-8.05646859e+01  3.52166571e+01]\n",
      " [-7.63402476e+01  3.33424732e+01]\n",
      " [-8.07592991e+01  3.55204056e+01]\n",
      " [-8.86801381e+01  3.90214615e+01]\n",
      " [-7.76308117e+01  3.39916654e+01]\n",
      " [-6.79913111e+01  2.97181775e+01]\n",
      " [-7.67839926e+01  3.36760811e+01]\n",
      " [-8.08776627e+01  3.53714870e+01]\n",
      " [-6.98194418e+01  3.06343200e+01]\n",
      " [-7.71314281e+01  3.37815546e+01]\n",
      " [-7.40222816e+01  3.23959014e+01]\n",
      " [-8.34988218e+01  3.69567085e+01]\n",
      " [-7.05579232e+01  3.08672301e+01]\n",
      " [-7.52972805e+01  3.30040705e+01]\n",
      " [-7.10692336e+01  3.12408438e+01]\n",
      " [-7.82597125e+01  3.43697988e+01]\n",
      " [-7.76130665e+01  3.39457208e+01]\n",
      " [-8.07033103e+01  3.56211622e+01]\n",
      " [-7.27915012e+01  3.19958101e+01]\n",
      " [-7.64627058e+01  3.35542864e+01]\n",
      " [-7.72996675e+01  3.37214172e+01]\n",
      " [-7.67603732e+01  3.34964141e+01]\n",
      " [-7.53177922e+01  3.28926329e+01]\n",
      " [-8.05168238e+01  3.50785807e+01]\n",
      " [-7.56836273e+01  3.31092837e+01]\n",
      " [-7.04760485e+01  3.07802386e+01]\n",
      " [-8.07481512e+01  3.53934209e+01]\n",
      " [-8.24983855e+01  3.60978994e+01]\n",
      " [-8.51689533e+01  3.73259681e+01]\n",
      " [-9.93467268e+01 -1.19680250e+00]\n",
      " [-7.62374705e+01  3.34509216e+01]\n",
      " [-8.49365685e+01  3.71614920e+01]\n",
      " [-7.53812487e+01  3.31312818e+01]\n",
      " [-8.18816762e+01  3.58080908e+01]\n",
      " [-8.07615528e+01  3.52923086e+01]\n",
      " [-8.07226518e+01  2.65576895e+01]\n",
      " [-8.62972661e+01  3.77303369e+01]\n",
      " [-7.35071550e+01  3.22920119e+01]\n",
      " [-8.86419585e+01  1.48193756e+01]\n",
      " [-8.48362952e+01  3.73538113e+01]\n",
      " [-7.64438954e+01  3.34931493e+01]\n",
      " [-8.42211541e+01  3.67211401e+01]\n",
      " [-7.02026417e+01  3.07210058e+01]\n",
      " [-7.64277132e+01  3.33708518e+01]\n",
      " [-7.44747999e+01  3.25305431e+01]\n",
      " [-7.62096907e+01  3.31858982e+01]\n",
      " [-8.50203543e+01  3.71056393e+01]\n",
      " [-8.68379178e+01  1.83158204e+01]\n",
      " [-6.96096621e+01  3.03924230e+01]\n",
      " [-7.88560040e+01  2.47043723e+01]\n",
      " [-9.04421278e+01  4.69219493e+00]\n",
      " [-8.07288002e+01  3.52760591e+01]\n",
      " [-7.51658681e+01  3.29059040e+01]\n",
      " [-7.99240159e+01  3.49947073e+01]\n",
      " [-8.06123054e+01  3.51753475e+01]\n",
      " [-7.37245963e+01  3.22642276e+01]\n",
      " [-7.10664821e+01  3.11283998e+01]\n",
      " [-7.85112599e+01  3.44019277e+01]\n",
      " [-9.03773171e+01  1.01225875e+01]\n",
      " [-7.56832129e+01  3.31609506e+01]\n",
      " [-8.79605554e+01  2.31749875e+01]\n",
      " [-8.21868825e+01  3.59312084e+01]\n",
      " [-8.19789834e+01  3.57668286e+01]\n",
      " [-7.57273004e+01  2.43758458e+01]\n",
      " [-7.99651939e+01  2.40036480e+01]\n",
      " [-8.65482794e+01  2.24664064e+01]\n",
      " [-7.49827469e+01  3.26848068e+01]\n",
      " [-7.71279613e+01  2.70781991e+01]\n",
      " [-7.68192706e+01  3.34985268e+01]\n",
      " [-7.56091931e+01  3.31299130e+01]\n",
      " [-9.65744041e+01  6.47913363e+00]\n",
      " [-7.29939154e+01  3.18222529e+01]\n",
      " [-7.59871246e+01  3.10305154e+01]\n",
      " [-7.73137758e+01  3.37718569e+01]\n",
      " [-1.01998521e+02 -1.21799318e+01]\n",
      " [-9.83186416e+01 -1.87137719e+00]\n",
      " [-1.10421523e+02 -4.33783458e+01]\n",
      " [-8.19340432e+01  3.57866758e+01]\n",
      " [-7.92847422e+01  3.46623145e+01]\n",
      " [-7.92951469e+01  2.92583807e+01]\n",
      " [-7.93109525e+01  3.47023637e+01]\n",
      " [-7.56765220e+01  3.30548270e+01]\n",
      " [-8.19279706e+01  3.59263547e+01]\n",
      " [-8.51969241e+01  1.31931764e+01]\n",
      " [-1.29966992e+02 -7.18636650e+01]\n",
      " [-1.09317977e+02 -1.22400962e+01]\n",
      " [-8.10159504e+01  2.88926320e+01]\n",
      " [-1.72292688e+02 -1.65745499e+02]\n",
      " [-8.32506811e+01  2.86740585e+01]\n",
      " [-9.50858451e+01  1.53306299e+01]\n",
      " [-7.91792731e+01  3.46701648e+01]\n",
      " [-7.90807763e+01  3.03666877e+01]\n",
      " [-8.10594661e+01  2.01679826e+01]\n",
      " [-9.33547304e+01  2.43984801e+01]\n",
      " [-8.41019703e+01  2.14539389e+01]\n",
      " [-9.16968239e+01  7.25214374e+00]\n",
      " [-9.84825496e+01 -5.02258325e+00]\n",
      " [-1.09881600e+02 -9.78244221e+00]\n",
      " [-8.54286440e+01  2.74880663e+01]\n",
      " [-9.46008360e+01  1.83489150e+01]\n",
      " [-7.57260287e+01  2.22016003e+01]\n",
      " [-8.01511228e+01  3.08033781e+01]\n",
      " [-9.46024903e+01  5.26830681e+00]\n",
      " [-9.03541729e+01  1.65738919e+01]\n",
      " [-8.74324926e+01  1.08949914e+01]\n",
      " [-7.44820207e+01  3.26713013e+01]\n",
      " [-8.59636985e+01  2.34592435e+01]\n",
      " [-7.94091284e+01  3.46467262e+01]\n",
      " [-8.01101090e+01  3.50130747e+01]\n",
      " [-8.06623468e+01  2.21440617e+01]\n",
      " [-9.56171253e+01  1.78289757e+01]\n",
      " [-8.40798223e+01  6.22206342e+00]\n",
      " [-8.35340051e+01  1.02756123e+01]\n",
      " [-9.39681432e+01 -5.89433082e+00]\n",
      " [-8.56194602e+01  2.31588045e+01]\n",
      " [-1.29349886e+02 -9.40432392e+01]\n",
      " [-7.84791165e+01  4.94053925e-01]\n",
      " [-8.37333314e+01  1.69048908e+01]\n",
      " [-8.01007714e+01  2.29884307e+01]\n",
      " [-1.00701104e+02 -2.58169564e+01]\n",
      " [-7.83697280e+01  2.87817164e+01]\n",
      " [-1.08400893e+02 -3.02443604e+01]\n",
      " [-7.45912187e+01  2.91789936e+01]\n",
      " [-7.37781625e+01  3.21615321e+01]\n",
      " [-1.07225912e+02 -1.27331110e+00]\n",
      " [-9.02382981e+01  5.47389501e+00]\n",
      " [-8.76250788e+01  3.27964527e+01]\n",
      " [-2.15615678e+02 -1.98542484e+02]\n",
      " [-8.70871743e+01  1.39722529e+01]\n",
      " [-1.02436038e+02 -1.43495809e+01]\n",
      " [-8.35618107e+01  2.22425655e+01]\n",
      " [-8.06817590e+01  1.66979841e+01]\n",
      " [-9.24366022e+01  4.03223324e+01]\n",
      " [-8.12239900e+01  3.53199645e+01]\n",
      " [-9.28208842e+01  2.62843466e+01]\n",
      " [-1.18391314e+02 -3.89292262e+01]\n",
      " [-9.22250175e+01  2.04650557e+01]\n",
      " [-9.67398135e+01  1.49130676e+01]\n",
      " [-9.61298446e+01  1.03766372e+01]\n",
      " [-8.80270091e+01  3.40366001e+01]\n",
      " [-1.77290941e+02 -1.59330202e+02]\n",
      " [-8.96770513e+01  1.72622915e+01]\n",
      " [-7.93198334e+01  3.46842385e+01]\n",
      " [-8.46739121e+01  3.37142098e+01]\n",
      " [-1.11863124e+02 -2.54270453e+01]\n",
      " [-9.09151503e+01  2.87791074e+01]\n",
      " [-7.22039577e+01  3.15533685e+01]\n",
      " [-1.67989738e+02 -1.65685493e+02]\n",
      " [-8.37383961e+01  3.64446207e+01]\n",
      " [-8.76738227e+01  1.86701888e+01]\n",
      " [-1.01268017e+02 -1.68948629e+01]\n",
      " [-8.34271047e+01  3.08790293e+01]\n",
      " [-1.00720173e+02 -8.38802681e-01]\n",
      " [-9.33691959e+01  3.19917124e+01]\n",
      " [-8.82847570e+01  2.31095119e+01]\n",
      " [-8.52750772e+01  3.71037545e+01]\n",
      " [-7.79628334e+01  3.40351597e+01]\n",
      " [-6.40828656e+02 -3.81670729e+02]\n",
      " [-9.66089216e+01  7.97848090e-01]\n",
      " [-8.63231470e+01  1.04716288e+01]\n",
      " [-7.78746091e+01  3.39604980e+01]\n",
      " [-8.88892243e+01 -4.82237686e+00]\n",
      " [-1.05699241e+02 -1.97401668e+00]\n",
      " [-1.48344501e+02 -1.03277867e+02]\n",
      " [-1.29470348e+02 -6.24693364e+01]\n",
      " [-1.53540667e+02 -1.08674284e+02]\n",
      " [-1.03459203e+02  2.84089983e-01]\n",
      " [-8.62920300e+01  1.69890664e+01]\n",
      " [-9.87698285e+01  6.04297074e+00]\n",
      " [-1.02931477e+02 -1.06933962e+01]\n",
      " [-1.30874398e+02 -6.73501885e+01]\n",
      " [-9.80026337e+01  2.46054338e+00]\n",
      " [-1.08557421e+02 -3.12120647e+01]\n",
      " [-9.65467853e+01  2.19425564e+01]\n",
      " [-8.56861425e+01  3.74999877e+01]\n",
      " [-8.10498029e+01  3.53813726e+01]\n",
      " [-8.60673478e+01  3.75174137e+01]]\n"
     ]
    }
   ],
   "source": [
    "print(two_projected)"
   ]
  },
  {
   "cell_type": "code",
   "execution_count": 58,
   "id": "1d87a838",
   "metadata": {},
   "outputs": [
    {
     "data": {
      "text/plain": [
       "Text(0, 0.5, 'Projection onto 2nd Principal Component')"
      ]
     },
     "execution_count": 58,
     "metadata": {},
     "output_type": "execute_result"
    },
    {
     "data": {
      "image/png": "[encoded data removed]",
      "text/plain": [
       "<Figure size 432x288 with 1 Axes>"
      ]
     },
     "metadata": {
      "needs_background": "light"
     },
     "output_type": "display_data"
    }
   ],
   "source": [
    "plt.figure()\n",
    "plt.scatter(*two_projected.T) \n",
    "plt.title(\"test\") \n",
    "plt.xlabel('Projection onto 1st Principal Component') \n",
    "plt.ylabel('Projection onto 2nd Principal Component')"
   ]
  },
  {
   "cell_type": "code",
   "execution_count": null,
   "id": "5f2d5727",
   "metadata": {},
   "outputs": [],
   "source": []
  }
 ],
 "metadata": {
  "kernelspec": {
   "display_name": "Python 3",
   "language": "python",
   "name": "python3"
  },
  "language_info": {
   "codemirror_mode": {
    "name": "ipython",
    "version": 3
   },
   "file_extension": ".py",
   "mimetype": "text/x-python",
   "name": "python",
   "nbconvert_exporter": "python",
   "pygments_lexer": "ipython3",
   "version": "3.8.8"
  }
 },
 "nbformat": 4,
 "nbformat_minor": 5
}
