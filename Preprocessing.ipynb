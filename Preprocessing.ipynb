{
 "cells": [
  {
   "cell_type": "code",
   "execution_count": 1,
   "id": "9b21597e",
   "metadata": {},
   "outputs": [],
   "source": [
    "import matplotlib.pyplot as plt\n",
    "import numpy as np\n",
    "import pandas as pd\n",
    "from sklearn.decomposition import PCA"
   ]
  },
  {
   "cell_type": "code",
   "execution_count": 2,
   "id": "0d8c33ed",
   "metadata": {},
   "outputs": [],
   "source": [
    "\"\"\"island = remove\n",
    "Island_id = remove\n",
    "kb_id = remove \n",
    "bag_id  = remove\n",
    "Sex m = 1, f = 0\n",
    "Gravid 1, 0, -1\n",
    "Morph\n",
    "- if not o,y,w remove\n",
    "- y, o, w = 2, 1, 0\n",
    "j= remove\n",
    "Scars, ticks, mites\n",
    "If n/a = 0\n",
    "Substrate type \n",
    "Grass = leaves, shrub, wall = stonewall, tree = branch, rock, cement=ground=dirt, e5 = (6, 5, 4, 3, 2, 1, 0)\"\"\"\n",
    "strings = [\"cement, ground, and dirt\", \"rocks\", \"trees and branches\", \"stone walls and walls\", \"leaves, shrubs, and grass\"]\n",
    "removed_columns = [\"gravid\", \"morph\", \"island\", \"island_id\", \"kb_id\", \"bag_id\", \"capture_temp\", \"substrate_temp\", \"time_of_capture\", 'scars', 'ticks', 'mites', 'autotomy']\n",
    "data = pd.read_csv('please_work.csv')\n",
    "variables_to_test = ['total % veg cover', '% RHumidity', 'Air temp', '% shrub cover', '% herbaceous veg', '% tree cover']\n",
    "data\n",
    "data = data.drop(removed_columns, axis=1)\n",
    "data = data.dropna()"
   ]
  },
  {
   "cell_type": "code",
   "execution_count": 3,
   "id": "8e0f2607",
   "metadata": {},
   "outputs": [
    {
     "data": {
      "text/html": [
       "<div>\n",
       "<style scoped>\n",
       "    .dataframe tbody tr th:only-of-type {\n",
       "        vertical-align: middle;\n",
       "    }\n",
       "\n",
       "    .dataframe tbody tr th {\n",
       "        vertical-align: top;\n",
       "    }\n",
       "\n",
       "    .dataframe thead th {\n",
       "        text-align: right;\n",
       "    }\n",
       "</style>\n",
       "<table border=\"1\" class=\"dataframe\">\n",
       "  <thead>\n",
       "    <tr style=\"text-align: right;\">\n",
       "      <th></th>\n",
       "      <th>sex</th>\n",
       "      <th>mass</th>\n",
       "      <th>svl</th>\n",
       "      <th>head_length</th>\n",
       "      <th>head_width</th>\n",
       "      <th>head_depth</th>\n",
       "      <th>bicep_length</th>\n",
       "      <th>forearm_length</th>\n",
       "      <th>hand_finger_length</th>\n",
       "      <th>femur_length</th>\n",
       "      <th>tibia_length</th>\n",
       "      <th>toe</th>\n",
       "      <th>total % veg cover</th>\n",
       "      <th>% RHumidity</th>\n",
       "      <th>Air temp</th>\n",
       "      <th>% shrub cover</th>\n",
       "      <th>% herbaceous veg</th>\n",
       "      <th>% tree cover</th>\n",
       "    </tr>\n",
       "  </thead>\n",
       "  <tbody>\n",
       "    <tr>\n",
       "      <th>4</th>\n",
       "      <td>m</td>\n",
       "      <td>8.1</td>\n",
       "      <td>63.54</td>\n",
       "      <td>17.30</td>\n",
       "      <td>9.49</td>\n",
       "      <td>7.92</td>\n",
       "      <td>6.55</td>\n",
       "      <td>6.58</td>\n",
       "      <td>8.00</td>\n",
       "      <td>12.79</td>\n",
       "      <td>10.64</td>\n",
       "      <td>16.83</td>\n",
       "      <td>10.0</td>\n",
       "      <td>40.0</td>\n",
       "      <td>18.1</td>\n",
       "      <td>0.0</td>\n",
       "      <td>10.0</td>\n",
       "      <td>0.0</td>\n",
       "    </tr>\n",
       "    <tr>\n",
       "      <th>5</th>\n",
       "      <td>m</td>\n",
       "      <td>5.8</td>\n",
       "      <td>64.69</td>\n",
       "      <td>15.54</td>\n",
       "      <td>8.12</td>\n",
       "      <td>6.66</td>\n",
       "      <td>6.91</td>\n",
       "      <td>6.76</td>\n",
       "      <td>7.98</td>\n",
       "      <td>9.88</td>\n",
       "      <td>10.16</td>\n",
       "      <td>15.59</td>\n",
       "      <td>12.0</td>\n",
       "      <td>42.8</td>\n",
       "      <td>17.6</td>\n",
       "      <td>2.0</td>\n",
       "      <td>10.0</td>\n",
       "      <td>0.0</td>\n",
       "    </tr>\n",
       "    <tr>\n",
       "      <th>6</th>\n",
       "      <td>m</td>\n",
       "      <td>6.1</td>\n",
       "      <td>65.75</td>\n",
       "      <td>17.97</td>\n",
       "      <td>9.09</td>\n",
       "      <td>7.64</td>\n",
       "      <td>6.90</td>\n",
       "      <td>7.34</td>\n",
       "      <td>8.52</td>\n",
       "      <td>14.50</td>\n",
       "      <td>11.11</td>\n",
       "      <td>17.96</td>\n",
       "      <td>90.0</td>\n",
       "      <td>39.8</td>\n",
       "      <td>20.9</td>\n",
       "      <td>0.0</td>\n",
       "      <td>80.0</td>\n",
       "      <td>10.0</td>\n",
       "    </tr>\n",
       "    <tr>\n",
       "      <th>7</th>\n",
       "      <td>f</td>\n",
       "      <td>6.3</td>\n",
       "      <td>66.87</td>\n",
       "      <td>15.87</td>\n",
       "      <td>8.22</td>\n",
       "      <td>7.16</td>\n",
       "      <td>6.12</td>\n",
       "      <td>5.98</td>\n",
       "      <td>7.21</td>\n",
       "      <td>10.62</td>\n",
       "      <td>8.91</td>\n",
       "      <td>14.97</td>\n",
       "      <td>80.0</td>\n",
       "      <td>33.0</td>\n",
       "      <td>22.5</td>\n",
       "      <td>20.0</td>\n",
       "      <td>60.0</td>\n",
       "      <td>0.0</td>\n",
       "    </tr>\n",
       "    <tr>\n",
       "      <th>8</th>\n",
       "      <td>m</td>\n",
       "      <td>7.8</td>\n",
       "      <td>63.48</td>\n",
       "      <td>15.07</td>\n",
       "      <td>7.83</td>\n",
       "      <td>6.55</td>\n",
       "      <td>5.94</td>\n",
       "      <td>6.11</td>\n",
       "      <td>7.22</td>\n",
       "      <td>10.36</td>\n",
       "      <td>9.83</td>\n",
       "      <td>14.47</td>\n",
       "      <td>60.0</td>\n",
       "      <td>35.8</td>\n",
       "      <td>20.0</td>\n",
       "      <td>0.0</td>\n",
       "      <td>60.0</td>\n",
       "      <td>0.0</td>\n",
       "    </tr>\n",
       "    <tr>\n",
       "      <th>...</th>\n",
       "      <td>...</td>\n",
       "      <td>...</td>\n",
       "      <td>...</td>\n",
       "      <td>...</td>\n",
       "      <td>...</td>\n",
       "      <td>...</td>\n",
       "      <td>...</td>\n",
       "      <td>...</td>\n",
       "      <td>...</td>\n",
       "      <td>...</td>\n",
       "      <td>...</td>\n",
       "      <td>...</td>\n",
       "      <td>...</td>\n",
       "      <td>...</td>\n",
       "      <td>...</td>\n",
       "      <td>...</td>\n",
       "      <td>...</td>\n",
       "      <td>...</td>\n",
       "    </tr>\n",
       "    <tr>\n",
       "      <th>207</th>\n",
       "      <td>f</td>\n",
       "      <td>5.1</td>\n",
       "      <td>60.05</td>\n",
       "      <td>15.58</td>\n",
       "      <td>7.47</td>\n",
       "      <td>5.79</td>\n",
       "      <td>7.00</td>\n",
       "      <td>6.76</td>\n",
       "      <td>8.03</td>\n",
       "      <td>12.20</td>\n",
       "      <td>9.97</td>\n",
       "      <td>17.59</td>\n",
       "      <td>20.0</td>\n",
       "      <td>41.3</td>\n",
       "      <td>32.0</td>\n",
       "      <td>0.0</td>\n",
       "      <td>20.0</td>\n",
       "      <td>0.0</td>\n",
       "    </tr>\n",
       "    <tr>\n",
       "      <th>208</th>\n",
       "      <td>m</td>\n",
       "      <td>8.2</td>\n",
       "      <td>77.04</td>\n",
       "      <td>17.85</td>\n",
       "      <td>9.07</td>\n",
       "      <td>6.24</td>\n",
       "      <td>6.92</td>\n",
       "      <td>7.18</td>\n",
       "      <td>9.67</td>\n",
       "      <td>15.20</td>\n",
       "      <td>11.55</td>\n",
       "      <td>18.18</td>\n",
       "      <td>50.0</td>\n",
       "      <td>42.0</td>\n",
       "      <td>34.0</td>\n",
       "      <td>0.0</td>\n",
       "      <td>30.0</td>\n",
       "      <td>20.0</td>\n",
       "    </tr>\n",
       "    <tr>\n",
       "      <th>209</th>\n",
       "      <td>m</td>\n",
       "      <td>8.6</td>\n",
       "      <td>66.79</td>\n",
       "      <td>18.03</td>\n",
       "      <td>10.49</td>\n",
       "      <td>7.46</td>\n",
       "      <td>7.79</td>\n",
       "      <td>7.70</td>\n",
       "      <td>9.57</td>\n",
       "      <td>14.67</td>\n",
       "      <td>12.85</td>\n",
       "      <td>21.03</td>\n",
       "      <td>60.0</td>\n",
       "      <td>47.3</td>\n",
       "      <td>31.8</td>\n",
       "      <td>10.0</td>\n",
       "      <td>50.0</td>\n",
       "      <td>0.0</td>\n",
       "    </tr>\n",
       "    <tr>\n",
       "      <th>211</th>\n",
       "      <td>m</td>\n",
       "      <td>8.8</td>\n",
       "      <td>68.69</td>\n",
       "      <td>19.51</td>\n",
       "      <td>10.38</td>\n",
       "      <td>7.66</td>\n",
       "      <td>7.57</td>\n",
       "      <td>7.40</td>\n",
       "      <td>11.08</td>\n",
       "      <td>14.71</td>\n",
       "      <td>13.08</td>\n",
       "      <td>20.26</td>\n",
       "      <td>40.0</td>\n",
       "      <td>40.5</td>\n",
       "      <td>32.8</td>\n",
       "      <td>0.0</td>\n",
       "      <td>40.0</td>\n",
       "      <td>0.0</td>\n",
       "    </tr>\n",
       "    <tr>\n",
       "      <th>213</th>\n",
       "      <td>f</td>\n",
       "      <td>7.8</td>\n",
       "      <td>74.87</td>\n",
       "      <td>17.60</td>\n",
       "      <td>8.58</td>\n",
       "      <td>6.96</td>\n",
       "      <td>6.65</td>\n",
       "      <td>6.76</td>\n",
       "      <td>8.95</td>\n",
       "      <td>12.87</td>\n",
       "      <td>11.97</td>\n",
       "      <td>18.10</td>\n",
       "      <td>35.0</td>\n",
       "      <td>43.0</td>\n",
       "      <td>32.0</td>\n",
       "      <td>5.0</td>\n",
       "      <td>30.0</td>\n",
       "      <td>0.0</td>\n",
       "    </tr>\n",
       "  </tbody>\n",
       "</table>\n",
       "<p>130 rows × 18 columns</p>\n",
       "</div>"
      ],
      "text/plain": [
       "    sex  mass    svl  head_length  head_width  head_depth  bicep_length  \\\n",
       "4     m   8.1  63.54        17.30        9.49        7.92          6.55   \n",
       "5     m   5.8  64.69        15.54        8.12        6.66          6.91   \n",
       "6     m   6.1  65.75        17.97        9.09        7.64          6.90   \n",
       "7     f   6.3  66.87        15.87        8.22        7.16          6.12   \n",
       "8     m   7.8  63.48        15.07        7.83        6.55          5.94   \n",
       "..   ..   ...    ...          ...         ...         ...           ...   \n",
       "207   f   5.1  60.05        15.58        7.47        5.79          7.00   \n",
       "208   m   8.2  77.04        17.85        9.07        6.24          6.92   \n",
       "209   m   8.6  66.79        18.03       10.49        7.46          7.79   \n",
       "211   m   8.8  68.69        19.51       10.38        7.66          7.57   \n",
       "213   f   7.8  74.87        17.60        8.58        6.96          6.65   \n",
       "\n",
       "     forearm_length  hand_finger_length  femur_length  tibia_length    toe  \\\n",
       "4              6.58                8.00         12.79         10.64  16.83   \n",
       "5              6.76                7.98          9.88         10.16  15.59   \n",
       "6              7.34                8.52         14.50         11.11  17.96   \n",
       "7              5.98                7.21         10.62          8.91  14.97   \n",
       "8              6.11                7.22         10.36          9.83  14.47   \n",
       "..              ...                 ...           ...           ...    ...   \n",
       "207            6.76                8.03         12.20          9.97  17.59   \n",
       "208            7.18                9.67         15.20         11.55  18.18   \n",
       "209            7.70                9.57         14.67         12.85  21.03   \n",
       "211            7.40               11.08         14.71         13.08  20.26   \n",
       "213            6.76                8.95         12.87         11.97  18.10   \n",
       "\n",
       "     total % veg cover  % RHumidity  Air temp  % shrub cover  \\\n",
       "4                 10.0         40.0      18.1            0.0   \n",
       "5                 12.0         42.8      17.6            2.0   \n",
       "6                 90.0         39.8      20.9            0.0   \n",
       "7                 80.0         33.0      22.5           20.0   \n",
       "8                 60.0         35.8      20.0            0.0   \n",
       "..                 ...          ...       ...            ...   \n",
       "207               20.0         41.3      32.0            0.0   \n",
       "208               50.0         42.0      34.0            0.0   \n",
       "209               60.0         47.3      31.8           10.0   \n",
       "211               40.0         40.5      32.8            0.0   \n",
       "213               35.0         43.0      32.0            5.0   \n",
       "\n",
       "     % herbaceous veg  % tree cover  \n",
       "4                10.0           0.0  \n",
       "5                10.0           0.0  \n",
       "6                80.0          10.0  \n",
       "7                60.0           0.0  \n",
       "8                60.0           0.0  \n",
       "..                ...           ...  \n",
       "207              20.0           0.0  \n",
       "208              30.0          20.0  \n",
       "209              50.0           0.0  \n",
       "211              40.0           0.0  \n",
       "213              30.0           0.0  \n",
       "\n",
       "[130 rows x 18 columns]"
      ]
     },
     "execution_count": 3,
     "metadata": {},
     "output_type": "execute_result"
    }
   ],
   "source": [
    "data"
   ]
  },
  {
   "cell_type": "code",
   "execution_count": 24,
   "id": "39eb23b7",
   "metadata": {},
   "outputs": [],
   "source": [
    "# data['scars'] = data['scars'].astype('int')\n",
    "# data['ticks'] = data['ticks'].astype('int')\n",
    "# data['mites'] = data['mites'].astype('int')"
   ]
  },
  {
   "cell_type": "code",
   "execution_count": 9,
   "id": "ad20d694",
   "metadata": {},
   "outputs": [],
   "source": [
    "transposed_processed_matrix = []\n",
    "for var in data:\n",
    "    col = data[var]\n",
    "    to_append = []\n",
    "    if var == \"sex\":\n",
    "        for x in col:\n",
    "            if x == 'm':\n",
    "                to_append.append(1)\n",
    "            else:\n",
    "                to_append.append(0)\n",
    "    elif var == \"gravid\":\n",
    "        for x in col:\n",
    "            if x == 'y':\n",
    "                to_append.append(1)\n",
    "            elif x == \"n\":\n",
    "                to_append.append(0)\n",
    "            else:\n",
    "                to_append.append(-1)\n",
    "    elif var == \"morph\":\n",
    "        allowed = ['y', 'o', 'w']\n",
    "        for x in col:\n",
    "            if x == 'y':\n",
    "                to_append.append(2)\n",
    "            elif x == 'o':\n",
    "                to_append.append(1)\n",
    "            elif x == 'w':\n",
    "                to_append.append(0)\n",
    "            else:\n",
    "                to_append.append('')\n",
    "    elif var == \"total % veg cover\":\n",
    "        for x in col:\n",
    "            to_append.append(x/100)\n",
    "    if len(to_append) > 0:\n",
    "        transposed_processed_matrix.append(np.array(to_append))\n",
    "    else:\n",
    "        transposed_processed_matrix.append(np.array(col))\n"
   ]
  },
  {
   "cell_type": "code",
   "execution_count": 11,
   "id": "8d26ff63",
   "metadata": {},
   "outputs": [
    {
     "name": "stdout",
     "output_type": "stream",
     "text": [
      "[1 1 1 0 1 0 0 1 1 1 1 1 0 0 0 1 1 1 0 1 1 1 1 1 0 1 1 1 1 1 1 0 1 1 0 1 1\n",
      " 1 0 0 1 1 1 1 0 0 1 1 1 1 1 1 1 1 1 0 0 1 0 1 1 1 0 1 0 0 0 1 1 0 1 1 1 1\n",
      " 1 1 1 1 1 0 1 1 1 1 0 1 1 0 1 1 0 1 1 1 1 1 1 0 1 1 0 1 0 1 1 0 1 1 1 1 1\n",
      " 0 1 1 1 1 1 1 0 1 1 1 1 1 1 0 1 1 1 0]\n",
      "(18, 130)\n"
     ]
    }
   ],
   "source": [
    "sex = np.array(transposed_processed_matrix[0]).T\n",
    "print(sex)\n",
    "print(np.array(transposed_processed_matrix).shape)"
   ]
  },
  {
   "cell_type": "code",
   "execution_count": 12,
   "id": "f2201211",
   "metadata": {},
   "outputs": [
    {
     "name": "stdout",
     "output_type": "stream",
     "text": [
      "(130, 17)\n"
     ]
    }
   ],
   "source": [
    "transposed_processed_matrix = np.array(transposed_processed_matrix[1:]).T\n",
    "print(np.shape(transposed_processed_matrix))"
   ]
  },
  {
   "cell_type": "code",
   "execution_count": 15,
   "id": "274b772b",
   "metadata": {},
   "outputs": [
    {
     "name": "stdout",
     "output_type": "stream",
     "text": [
      "[[ 8.1  63.54 17.3  ...  0.   10.    0.  ]\n",
      " [ 5.8  64.69 15.54 ...  2.   10.    0.  ]\n",
      " [ 6.1  65.75 17.97 ...  0.   80.   10.  ]\n",
      " ...\n",
      " [ 8.6  66.79 18.03 ... 10.   50.    0.  ]\n",
      " [ 8.8  68.69 19.51 ...  0.   40.    0.  ]\n",
      " [ 7.8  74.87 17.6  ...  5.   30.    0.  ]]\n",
      "(130, 17)\n"
     ]
    }
   ],
   "source": [
    "print(transposed_processed_matrix)\n",
    "print(np.shape(transposed_processed_matrix))"
   ]
  },
  {
   "cell_type": "code",
   "execution_count": 16,
   "id": "5efa02f8",
   "metadata": {},
   "outputs": [
    {
     "name": "stdout",
     "output_type": "stream",
     "text": [
      "(130, 17)\n"
     ]
    },
    {
     "name": "stderr",
     "output_type": "stream",
     "text": [
      "<ipython-input-16-c611364e5f71>:3: FutureWarning: elementwise comparison failed; returning scalar instead, but in the future will perform elementwise comparison\n",
      "  if not '' in row:\n"
     ]
    }
   ],
   "source": [
    "final_transponsed_matrix = []\n",
    "for row in transposed_processed_matrix:\n",
    "    if not '' in row:\n",
    "        final_transponsed_matrix.append(row)\n",
    "print(np.shape(final_transponsed_matrix))"
   ]
  },
  {
   "cell_type": "code",
   "execution_count": 19,
   "id": "29418803",
   "metadata": {},
   "outputs": [],
   "source": [
    "B = np.array(final_transponsed_matrix, dtype=float)\n",
    "without_last = B[:, 0:11]"
   ]
  },
  {
   "cell_type": "code",
   "execution_count": 20,
   "id": "8549cf07",
   "metadata": {},
   "outputs": [
    {
     "name": "stdout",
     "output_type": "stream",
     "text": [
      "[0.71274601 0.14878709 0.06641562]\n",
      "0.7127460144565947\n",
      "0.8615331038108307\n",
      "0.9279487248628632\n"
     ]
    }
   ],
   "source": [
    "pca = PCA(n_components=3)\n",
    "pca.fit(without_last)\n",
    "print(pca.explained_variance_ratio_)\n",
    "total_var = 0\n",
    "for x in pca.explained_variance_ratio_:\n",
    "    total_var += x\n",
    "    print(total_var)"
   ]
  },
  {
   "cell_type": "code",
   "execution_count": 21,
   "id": "baa05097",
   "metadata": {},
   "outputs": [
    {
     "name": "stdout",
     "output_type": "stream",
     "text": [
      "(130, 3)\n",
      "(130, 3)\n",
      "(6, 130, 1)\n"
     ]
    }
   ],
   "source": [
    "eigenvectors = pca.components_.T\n",
    "without_last\n",
    "proj = np.dot(without_last, eigenvectors)\n",
    "evaluation_vectors = []\n",
    "for i in range(11, 17):\n",
    "    last = B[:, i:i+1]\n",
    "    evaluation_vectors.append(last)\n",
    "# print(np.shape(last))\n",
    "print(proj.shape)\n",
    "print(np.shape(proj))\n",
    "print(np.shape(evaluation_vectors))"
   ]
  },
  {
   "cell_type": "code",
   "execution_count": 116,
   "id": "0813ce11",
   "metadata": {},
   "outputs": [],
   "source": [
    "# colors_array = ['#1f77b4', '#ff7f0e', '#2ca02c', '#d62728', '#9467bd', '#8c564b', '#e377c2', '#7f7f7f', '#bcbd22', '#17becf']"
   ]
  },
  {
   "cell_type": "code",
   "execution_count": 22,
   "id": "1dddad7e",
   "metadata": {},
   "outputs": [],
   "source": [
    "colors_array = ['#ad760e', '#a2e408', '#1fbc35', '#055a25', '#055a25']"
   ]
  },
  {
   "cell_type": "code",
   "execution_count": 26,
   "id": "b88dfcaa",
   "metadata": {},
   "outputs": [],
   "source": [
    "characters = []\n",
    "markers = ['o', '^']\n",
    "for x in sex:\n",
    "    if x == 1:\n",
    "        characters.append(markers[0])\n",
    "    else:\n",
    "        characters.append(markers[1])"
   ]
  },
  {
   "cell_type": "code",
   "execution_count": 27,
   "id": "a330b6fa",
   "metadata": {},
   "outputs": [],
   "source": [
    "color_vectors = []\n",
    "veg_color_vector = [int(color * 100 //25) for color in evaluation_vectors[0]]\n",
    "color_vectors.append(veg_color_vector)\n"
   ]
  },
  {
   "cell_type": "code",
   "execution_count": 32,
   "id": "ab6ac220",
   "metadata": {},
   "outputs": [
    {
     "name": "stdout",
     "output_type": "stream",
     "text": [
      "(130,)\n"
     ]
    },
    {
     "ename": "QhullError",
     "evalue": "QH6214 qhull input error: not enough points(3) to construct initial simplex (need 131)\n\nWhile executing:  | qhull i Qx Qt\nOptions selected for Qhull 2019.1.r 2019/06/21:\n  run-id 756879890  incidence  Qxact-merge  Qtriangulate  _zero-centrum\n  Q3-no-merge-vertices-dim-high  _maxoutside  0\n",
     "output_type": "error",
     "traceback": [
      "\u001b[0;31m---------------------------------------------------------------------------\u001b[0m",
      "\u001b[0;31mQhullError\u001b[0m                                Traceback (most recent call last)",
      "\u001b[0;32m<ipython-input-32-e0236541671e>\u001b[0m in \u001b[0;36m<module>\u001b[0;34m\u001b[0m\n\u001b[1;32m      8\u001b[0m \u001b[0mpoints\u001b[0m \u001b[0;34m=\u001b[0m \u001b[0;34m(\u001b[0m\u001b[0mproj\u001b[0m\u001b[0;34m[\u001b[0m\u001b[0;34m:\u001b[0m\u001b[0;34m,\u001b[0m \u001b[0;36m0\u001b[0m\u001b[0;34m]\u001b[0m\u001b[0;34m,\u001b[0m \u001b[0mproj\u001b[0m\u001b[0;34m[\u001b[0m\u001b[0;34m:\u001b[0m\u001b[0;34m,\u001b[0m \u001b[0;36m1\u001b[0m\u001b[0;34m]\u001b[0m\u001b[0;34m,\u001b[0m \u001b[0mproj\u001b[0m\u001b[0;34m[\u001b[0m\u001b[0;34m:\u001b[0m\u001b[0;34m,\u001b[0m \u001b[0;36m2\u001b[0m\u001b[0;34m]\u001b[0m\u001b[0;34m)\u001b[0m\u001b[0;34m\u001b[0m\u001b[0;34m\u001b[0m\u001b[0m\n\u001b[1;32m      9\u001b[0m \u001b[0;31m# Compute the convex hull of the data\u001b[0m\u001b[0;34m\u001b[0m\u001b[0;34m\u001b[0m\u001b[0;34m\u001b[0m\u001b[0m\n\u001b[0;32m---> 10\u001b[0;31m \u001b[0mhull\u001b[0m \u001b[0;34m=\u001b[0m \u001b[0msp\u001b[0m\u001b[0;34m.\u001b[0m\u001b[0mConvexHull\u001b[0m\u001b[0;34m(\u001b[0m\u001b[0mpoints\u001b[0m\u001b[0;34m)\u001b[0m\u001b[0;34m\u001b[0m\u001b[0;34m\u001b[0m\u001b[0m\n\u001b[0m\u001b[1;32m     11\u001b[0m \u001b[0;34m\u001b[0m\u001b[0m\n\u001b[1;32m     12\u001b[0m \u001b[0;31m# Create a 3D figure and axis object\u001b[0m\u001b[0;34m\u001b[0m\u001b[0;34m\u001b[0m\u001b[0;34m\u001b[0m\u001b[0m\n",
      "\u001b[0;32m_qhull.pyx\u001b[0m in \u001b[0;36mscipy.spatial._qhull.ConvexHull.__init__\u001b[0;34m()\u001b[0m\n",
      "\u001b[0;32m_qhull.pyx\u001b[0m in \u001b[0;36mscipy.spatial._qhull._Qhull.__init__\u001b[0;34m()\u001b[0m\n",
      "\u001b[0;31mQhullError\u001b[0m: QH6214 qhull input error: not enough points(3) to construct initial simplex (need 131)\n\nWhile executing:  | qhull i Qx Qt\nOptions selected for Qhull 2019.1.r 2019/06/21:\n  run-id 756879890  incidence  Qxact-merge  Qtriangulate  _zero-centrum\n  Q3-no-merge-vertices-dim-high  _maxoutside  0\n"
     ]
    }
   ],
   "source": [
    "import numpy as np\n",
    "import matplotlib.pyplot as plt\n",
    "from mpl_toolkits.mplot3d import Axes3D\n",
    "import scipy.spatial as sp\n",
    "\n",
    "# Generate random 3D data\n",
    "points = (proj[:, 0], proj[:, 1], proj[:, 2])\n",
    "# Compute the convex hull of the data\n",
    "hull = sp.ConvexHull(points)\n",
    "\n",
    "# Create a 3D figure and axis object\n",
    "fig = plt.figure()\n",
    "ax = fig.add_subplot(111, projection='3d')\n",
    "\n",
    "# Plot the 3D scatterplot of the points\n",
    "ax.scatter(points[:,0], points[:,1], points[:,2], c='b', marker='o')\n",
    "\n",
    "# Plot the convex hull as a surface\n",
    "for simplex in hull.simplices:\n",
    "    poly = plt.Polygon(points[simplex], alpha=0.2)\n",
    "    ax.add_patch(poly)\n",
    "\n",
    "# Set the labels of the axes\n",
    "ax.set_xlabel('X axis')\n",
    "ax.set_ylabel('Y axis')\n",
    "ax.set_zlabel('Z axis')\n",
    "\n",
    "# Show the plot\n",
    "plt.show()\n"
   ]
  },
  {
   "cell_type": "code",
   "execution_count": 28,
   "id": "8bf146fc",
   "metadata": {},
   "outputs": [
    {
     "data": {
      "image/png": "[encoded data removed]",
      "text/plain": [
       "<Figure size 432x288 with 1 Axes>"
      ]
     },
     "metadata": {
      "needs_background": "light"
     },
     "output_type": "display_data"
    }
   ],
   "source": [
    "from mpl_toolkits.mplot3d import Axes3D\n",
    "fig = plt.figure()\n",
    "ax = fig.add_subplot(111, projection='3d')\n",
    "\n",
    "# Create the scatterplot\n",
    "for oh, color, char in zip(proj, color_vectors[0], characters):\n",
    "        # plt.title(strings[int(color)])\n",
    "        rep = 0\n",
    "        if char == '^':\n",
    "                rep = 1\n",
    "        ax.scatter(xs=oh[0], ys=oh[1], zs=oh[2], c=colors_array[color], marker=char)"
   ]
  },
  {
   "cell_type": "code",
   "execution_count": 141,
   "id": "81a7caa7",
   "metadata": {},
   "outputs": [
    {
     "data": {
      "image/png": "[encoded data removed]",
      "text/plain": [
       "<Figure size 432x288 with 1 Axes>"
      ]
     },
     "metadata": {
      "needs_background": "light"
     },
     "output_type": "display_data"
    }
   ],
   "source": [
    "arrays = [[] for i in range(3)]\n",
    "for oh, color, char in zip(proj, color_vectors[0], characters):\n",
    "        # plt.title(strings[int(color)])\n",
    "        rep = 0\n",
    "        if char == '^':\n",
    "                rep = 1\n",
    "        plt.scatter(x=oh[0], y=oh[1], c=colors_array[rep], marker=char)\n",
    "        # arrays[int(color)].extend(oh)\n",
    "        # title = str(int(color)) + '.pdf'\n",
    "        # plt.savefig('line_plot.pdf')  \n",
    "        # plt.legend([\"0\", '1', '2', '3', '4', '5', '6'])\n"
   ]
  },
  {
   "cell_type": "code",
   "execution_count": 36,
   "metadata": {},
   "outputs": [
    {
     "name": "stdout",
     "output_type": "stream",
     "text": [
      "(125,)\n"
     ]
    }
   ],
   "source": [
    "print(np.shape(proj[:, 0]))"
   ]
  },
  {
   "cell_type": "code",
   "execution_count": 135,
   "id": "d6cde016",
   "metadata": {},
   "outputs": [
    {
     "name": "stdout",
     "output_type": "stream",
     "text": [
      "[ 7.93612638 11.13878302  8.35831136  6.78355186  6.37330554  4.93735183\n",
      "  4.70316181  7.06281387 10.53483244 14.06298261  6.49449965  6.30897155\n",
      "  8.79593804  9.0042782   8.33172282  9.00104558  9.46356652  9.06144672\n",
      "  7.37097136  7.75846246 11.90240031  6.96484158  6.33202564  6.03819569\n",
      "  5.90572148 10.49752852  6.88818137  8.27785055 12.61357366  7.9790523\n",
      "  7.1515733   9.82152249  7.70202738  6.0795336   6.09869046  6.62313976\n",
      " 10.05283778  7.32748657  9.17438252  7.15298041  8.73864441  8.19943\n",
      "  7.12050977  6.19796345  9.24323067  5.19058487  6.99714586]\n",
      "[ 7.25851945 12.82530802  6.66802331  5.76098772  8.28269444 10.15885811\n",
      "  7.41383755  6.49829172  6.4380924   5.73738055 12.06449264  7.6107691\n",
      " 10.49146532 11.37679822]\n",
      "[11.72193667  8.29782824  6.51962692 11.03209451 13.19718556  5.66856163\n",
      "  6.23087591  5.62698663  9.97172176 12.37372915  6.10333789  6.77876895\n",
      "  7.10482197 10.89689599  7.24179684 11.08477259 13.25175365 12.96893913\n",
      "  9.08345713  9.15531446  5.2076472   8.29313049  7.62314545 11.98481891\n",
      " 10.83798379 11.05610956 10.69588007  7.09816618  8.02190181  9.40407152\n",
      "  8.83041595  9.33696645  8.14748392 12.13241608  7.61322104  7.50235402\n",
      "  9.84739153  6.5233125   5.10788463  5.99995651 13.25989242  5.50716809]\n",
      "[ 5.48440895  5.3152875   6.52813298  5.74026073  8.90782188 11.12131669\n",
      " 12.24094315  6.72871976 11.09567693 12.39480979 11.73881111  8.62545794\n",
      "  6.55500882  8.90399129  8.43419946  7.80427637 11.53094267 11.00961229\n",
      "  5.07493199  6.43833927  6.24923073 13.22090101]\n"
     ]
    },
    {
     "data": {
      "image/png": "[encoded data removed]",
      "text/plain": [
       "<Figure size 432x288 with 1 Axes>"
      ]
     },
     "metadata": {
      "needs_background": "light"
     },
     "output_type": "display_data"
    }
   ],
   "source": [
    "import matplotlib.patches as patches\n",
    "from scipy.spatial import ConvexHull\n",
    "# Find the indices of points with each color\n",
    "color_dict = {}\n",
    "for i, color in enumerate(color_vectors[0]):\n",
    "    if color not in color_dict:\n",
    "        color_dict[color] = []\n",
    "    color_dict[color].append(i)\n",
    "x = proj[:, 0]\n",
    "y = proj[:, 1]\n",
    "\n",
    "fig, ax = plt.subplots()\n",
    "for color, indices in color_dict.items():\n",
    "    ax.scatter(x[indices], y[indices], c=colors_array[color], label=f\"Color {color}\")\n",
    "ax.legend()\n",
    "plt.title(\"2022 Season Vegetation Analysis\")\n",
    "for color, indices in color_dict.items():\n",
    "    # Extract the x and y coordinates of the points with the same color\n",
    "    x_color = proj[:, 0][indices]\n",
    "    y_color = proj[:, 1][indices]\n",
    "    # Calculate the vertices of the outer polygon using the Convex Hull algorithm\n",
    "    print(y_color)\n",
    "    points = np.column_stack((x_color, y_color))\n",
    "    hull = ConvexHull(points)\n",
    "    outer_points = points[hull.vertices]\n",
    "    polygon = patches.Polygon(outer_points, linewidth=2, edgecolor=colors_array[color], facecolor='none')\n",
    "    ax.add_patch(polygon)\n",
    "\n",
    "# Show the plot\n",
    "plt.savefig(\"vegetation cover and traits 2d.pdf\")\n",
    "plt.show()"
   ]
  },
  {
   "cell_type": "code",
   "execution_count": 70,
   "id": "95f0faad",
   "metadata": {},
   "outputs": [],
   "source": [
    "from scipy import stats"
   ]
  },
  {
   "cell_type": "code",
   "execution_count": 81,
   "id": "56c2cb09",
   "metadata": {},
   "outputs": [
    {
     "name": "stdout",
     "output_type": "stream",
     "text": [
      "rocks || trees and branches\n",
      "0.018164050089947984\n",
      "rocks || leaves, shrubs, and grass\n",
      "0.01881736763756313\n"
     ]
    }
   ],
   "source": [
    "for i in range(len(arrays)):\n",
    "    for j in range(len(arrays)):\n",
    "        if i < j:\n",
    "            p = stats.ttest_ind(arrays[i], arrays[j]).pvalue\n",
    "            if p < 0.1:\n",
    "                print(strings[i], \"||\", strings[j]) \n",
    "                print(p)"
   ]
  },
  {
   "cell_type": "markdown",
   "id": "4d294f21",
   "metadata": {},
   "source": []
  }
 ],
 "metadata": {
  "kernelspec": {
   "display_name": "Python 3",
   "language": "python",
   "name": "python3"
  },
  "language_info": {
   "codemirror_mode": {
    "name": "ipython",
    "version": 3
   },
   "file_extension": ".py",
   "mimetype": "text/x-python",
   "name": "python",
   "nbconvert_exporter": "python",
   "pygments_lexer": "ipython3",
   "version": "3.8.8"
  },
  "vscode": {
   "interpreter": {
    "hash": "b2de3a433061d620227c54aebf49d08fcffcd2359871acd085180bb1ef01d06f"
   }
  }
 },
 "nbformat": 4,
 "nbformat_minor": 5
}
